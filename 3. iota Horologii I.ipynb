{
 "cells": [
  {
   "cell_type": "markdown",
   "metadata": {},
   "source": [
    "## Homework\n",
    "\n",
    "- Determine spectroscopic parameters for iota Horologii (HD17051) relative to its Hyades twin (HD28635)\n",
    "- Use input files iotHor_stars.csv and iotHor_lines.csv\n",
    "- Calculate the errors\n",
    "- Use Kurucz \"odfnew\" model atmospheres (it's the default)\n",
    "\n",
    "Answers (odfnew + MOOG2017; maybe a tiny bit different with MOOG20XX):\n",
    "- $T_\\mathrm{eff}=6232\\pm8$ K\n",
    "- $\\log\\,g=4.55\\pm0.02$\n",
    "- $\\Delta$[Fe/H] = $-0.013\\pm0.005$\n",
    "- $v_t=1.34\\pm0.01$ km/s\n",
    "\n",
    "### Extra credit!\n",
    "- Prove that the odfnew solution is consistent with that obtained with MARCS models within the uncertainties."
   ]
  },
  {
   "cell_type": "code",
   "execution_count": null,
   "metadata": {
    "collapsed": true
   },
   "outputs": [],
   "source": []
  }
 ],
 "metadata": {
  "kernelspec": {
   "display_name": "Python 3",
   "language": "python",
   "name": "python3"
  },
  "language_info": {
   "codemirror_mode": {
    "name": "ipython",
    "version": 3
   },
   "file_extension": ".py",
   "mimetype": "text/x-python",
   "name": "python",
   "nbconvert_exporter": "python",
   "pygments_lexer": "ipython3",
   "version": "3.6.1"
  }
 },
 "nbformat": 4,
 "nbformat_minor": 2
}
