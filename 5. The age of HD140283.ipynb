{
 "cells": [
  {
   "cell_type": "markdown",
   "metadata": {},
   "source": [
    "## The Problem: What is the age of HD 140283?\n",
    "\n",
    "From Bond et al. (2013):\n",
    "\n",
    "- $T_\\mathrm{eff}=5777\\pm55$ K\n",
    "- [Fe/H] = $-2.40\\pm0.10$\n",
    "- $V=7.205\\pm0.02$ mag\n",
    "- plx = $17.15\\pm0.14$ mas\n",
    "\n",
    "** Age = $14.46\\pm0.31$ Gyr (!?)**"
   ]
  },
  {
   "cell_type": "code",
   "execution_count": null,
   "metadata": {
    "collapsed": true,
    "scrolled": true
   },
   "outputs": [],
   "source": [
    "import q2"
   ]
  },
  {
   "cell_type": "markdown",
   "metadata": {},
   "source": [
    "Create a **q2.Star** object for HD 140283 and assign manually all its known parameters."
   ]
  },
  {
   "cell_type": "code",
   "execution_count": null,
   "metadata": {
    "collapsed": true
   },
   "outputs": [],
   "source": []
  },
  {
   "cell_type": "markdown",
   "metadata": {},
   "source": [
    "Use **q2.isopars.solve_one** to measure the age of HD 140283."
   ]
  },
  {
   "cell_type": "code",
   "execution_count": null,
   "metadata": {},
   "outputs": [],
   "source": []
  },
  {
   "cell_type": "markdown",
   "metadata": {},
   "source": [
    "Optional: examine the isochrone grids available."
   ]
  },
  {
   "cell_type": "code",
   "execution_count": null,
   "metadata": {
    "collapsed": true
   },
   "outputs": [],
   "source": []
  },
  {
   "cell_type": "markdown",
   "metadata": {},
   "source": [
    "Back to HD 140283 ...\n",
    "\n",
    "- Star is still older than the Universe.\n",
    "- [Fe/H] is **not** metallicity; oxygen is the most abundant metal and [O/Fe] $\\simeq$ 0.5 in HD 140283.\n",
    "- Correct the metallicity for alpha-element enhancement ($f_\\alpha\\simeq10^{[\\alpha/\\mathrm{Fe}]}$) as in Salaris et al. (1993).\n",
    "\n",
    "$Z=Z_0(0.638\\,f_\\alpha+0.362)$ ; $Z_0\\simeq0.04$ for HD 140283"
   ]
  },
  {
   "cell_type": "code",
   "execution_count": null,
   "metadata": {},
   "outputs": [],
   "source": [
    "import numpy as np\n",
    "print(np.log10(0.004*(0.638*10**0.00+0.362)))\n",
    "print(np.log10(0.004*(0.638*10**0.50+0.362)))"
   ]
  },
  {
   "cell_type": "markdown",
   "metadata": {},
   "source": [
    "- Change the stars' [Fe/H] to $-2.02$ and recalculate the age.\n",
    "- Create a better age probabilty distribution figure."
   ]
  },
  {
   "cell_type": "code",
   "execution_count": null,
   "metadata": {},
   "outputs": [],
   "source": []
  },
  {
   "cell_type": "markdown",
   "metadata": {},
   "source": [
    "Optional\n",
    "\n",
    "- Make a plot showing the nearest-age isochrone and the star with its error bars.\n",
    "- Show isochrones of +/- 1 sigma age."
   ]
  },
  {
   "cell_type": "code",
   "execution_count": null,
   "metadata": {
    "collapsed": true
   },
   "outputs": [],
   "source": [
    "import matplotlib.pyplot as plt\n",
    "%matplotlib inline"
   ]
  },
  {
   "cell_type": "code",
   "execution_count": null,
   "metadata": {
    "collapsed": true
   },
   "outputs": [],
   "source": []
  },
  {
   "cell_type": "code",
   "execution_count": null,
   "metadata": {},
   "outputs": [],
   "source": []
  }
 ],
 "metadata": {
  "kernelspec": {
   "display_name": "Python 3",
   "language": "python",
   "name": "python3"
  },
  "language_info": {
   "codemirror_mode": {
    "name": "ipython",
    "version": 3
   },
   "file_extension": ".py",
   "mimetype": "text/x-python",
   "name": "python",
   "nbconvert_exporter": "python",
   "pygments_lexer": "ipython3",
   "version": "3.6.1"
  }
 },
 "nbformat": 4,
 "nbformat_minor": 2
}
