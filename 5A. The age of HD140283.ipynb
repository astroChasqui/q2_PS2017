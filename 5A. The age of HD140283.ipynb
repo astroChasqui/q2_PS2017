{
 "cells": [
  {
   "cell_type": "markdown",
   "metadata": {},
   "source": [
    "## The Problem: What is the age of HD 140283?\n",
    "\n",
    "From Bond et al. (2013):\n",
    "\n",
    "- $T_\\mathrm{eff}=5777\\pm55$ K\n",
    "- [Fe/H] = $-2.40\\pm0.10$\n",
    "- $V=7.205\\pm0.02$ mag\n",
    "- plx = $17.15\\pm0.14$ mas\n",
    "\n",
    "** Age = $14.46\\pm0.31$ Gyr (!?)**"
   ]
  },
  {
   "cell_type": "code",
   "execution_count": 1,
   "metadata": {
    "collapsed": true,
    "scrolled": true
   },
   "outputs": [],
   "source": [
    "import q2"
   ]
  },
  {
   "cell_type": "markdown",
   "metadata": {},
   "source": [
    "Create a **q2.Star** object for HD 140283 and assign manually all its known parameters."
   ]
  },
  {
   "cell_type": "code",
   "execution_count": 2,
   "metadata": {
    "collapsed": true
   },
   "outputs": [],
   "source": [
    "s = q2.Star('HD 140283', 5777, None, -2.40, None, 55, None, 0.10, None)\n",
    "s.v, s.err_v = 7.205, 0.02\n",
    "s.plx, s.err_plx = 17.15, 0.14"
   ]
  },
  {
   "cell_type": "markdown",
   "metadata": {},
   "source": [
    "Use **q2.isopars.solve_one** to measure the age of HD 140283."
   ]
  },
  {
   "cell_type": "code",
   "execution_count": 3,
   "metadata": {},
   "outputs": [
    {
     "name": "stdout",
     "output_type": "stream",
     "text": [
      "Using 3460 isochrone points\n",
      "\n",
      "Parameter      m.p. |  1-sigma range  |  2-sigma range  |   mean +/-  stdev\n",
      "----------   ------ | --------------- | --------------- | -----------------\n",
      "age          14.800 | 14.319 - 15.002 | 13.765 - 15.086 | 14.592 +/-  0.362\n",
      "mass          0.770 |  0.763 -  0.778 |  0.760 -  0.786 |  0.774 +/-  0.005\n",
      "logl          0.630 |  0.620 -  0.643 |  0.607 -  0.653 |  0.632 +/-  0.011\n",
      "mv            3.370 |  3.341 -  3.391 |  3.314 -  3.416 |  3.363 +/-  0.025\n",
      "r             2.060 |  2.007 -  2.110 |  1.956 -  2.192 |  2.045 +/-  0.047\n",
      "logg          3.690 |  3.671 -  3.726 |  3.656 -  3.744 |  3.697 +/-  0.021\n"
     ]
    }
   ],
   "source": [
    "sp = q2.isopars.SolvePars(db='yy05.sql3')\n",
    "q2.isopars.solve_one(s, sp)"
   ]
  },
  {
   "cell_type": "markdown",
   "metadata": {},
   "source": [
    "Optional: examine the isochrone grids available."
   ]
  },
  {
   "cell_type": "code",
   "execution_count": 4,
   "metadata": {
    "collapsed": true
   },
   "outputs": [],
   "source": [
    "iso02 = q2.isopars.get_all_isochrone_points('yy02.sql3')\n",
    "iso05 = q2.isopars.get_all_isochrone_points('yy05.sql3')"
   ]
  },
  {
   "cell_type": "code",
   "execution_count": 5,
   "metadata": {},
   "outputs": [
    {
     "name": "stdout",
     "output_type": "stream",
     "text": [
      "The edges of this isochrone grid are:\n",
      "Teff(K) =  2720 | 19015\n",
      "log g   = -0.24 |  4.91\n",
      "[Fe/H]  = -1.72 |  0.60\n",
      "Number of isochrone points = 4896450\n"
     ]
    }
   ],
   "source": [
    "q2.isopars.get_ips_info(iso02)"
   ]
  },
  {
   "cell_type": "code",
   "execution_count": 6,
   "metadata": {},
   "outputs": [
    {
     "name": "stdout",
     "output_type": "stream",
     "text": [
      "The edges of this isochrone grid are:\n",
      "Teff(K) =  2720 | 22264\n",
      "log g   = -0.24 |  5.01\n",
      "[Fe/H]  = -3.50 |  0.60\n",
      "Number of isochrone points = 3473550\n"
     ]
    }
   ],
   "source": [
    "q2.isopars.get_ips_info(iso05)"
   ]
  },
  {
   "cell_type": "markdown",
   "metadata": {},
   "source": [
    "Back to HD 140283 ...\n",
    "\n",
    "- Star is still older than the Universe.\n",
    "- [Fe/H] is **not** metallicity; oxygen is the most abundant metal and [O/Fe] $\\simeq$ 0.5 in HD 140283.\n",
    "- Correct the metallicity for alpha-element enhancement ($f_\\alpha\\simeq10^{[\\alpha/\\mathrm{Fe}]}$) as in Salaris et al. (1993).\n",
    "\n",
    "$Z=Z_0(0.638\\,f_\\alpha+0.362)$ ; $Z_0\\simeq0.04$ for HD 140283"
   ]
  },
  {
   "cell_type": "code",
   "execution_count": 7,
   "metadata": {},
   "outputs": [
    {
     "name": "stdout",
     "output_type": "stream",
     "text": [
      "-2.39794000867\n",
      "-2.02144824972\n"
     ]
    }
   ],
   "source": [
    "import numpy as np\n",
    "print(np.log10(0.004*(0.638*10**0.00+0.362)))\n",
    "print(np.log10(0.004*(0.638*10**0.50+0.362)))"
   ]
  },
  {
   "cell_type": "markdown",
   "metadata": {},
   "source": [
    "- Change the stars' [Fe/H] to $-2.02$ and recalculate the age.\n",
    "- Create a better age probabilty distribution figure."
   ]
  },
  {
   "cell_type": "code",
   "execution_count": 8,
   "metadata": {},
   "outputs": [
    {
     "name": "stdout",
     "output_type": "stream",
     "text": [
      "Using 5132 isochrone points\n",
      "\n",
      "Parameter      m.p. |  1-sigma range  |  2-sigma range  |   mean +/-  stdev\n",
      "----------   ------ | --------------- | --------------- | -----------------\n",
      "age          13.700 | 13.045 - 14.375 | 12.463 - 14.906 | 13.698 +/-  0.629\n",
      "mass          0.790 |  0.775 -  0.804 |  0.762 -  0.817 |  0.789 +/-  0.013\n",
      "logl          0.620 |  0.610 -  0.635 |  0.600 -  0.648 |  0.625 +/-  0.011\n",
      "mv            3.370 |  3.345 -  3.400 |  3.320 -  3.427 |  3.377 +/-  0.026\n",
      "r             2.060 |  2.002 -  2.116 |  1.945 -  2.172 |  2.057 +/-  0.057\n",
      "logg          3.700 |  3.674 -  3.731 |  3.652 -  3.758 |  3.705 +/-  0.026\n"
     ]
    }
   ],
   "source": [
    "s.feh = -2.02\n",
    "sp.smooth_window_len_mass = 5\n",
    "sp.smooth_window_len_r = 15\n",
    "pp = q2.isopars.PlotPars(figure_format='eps')\n",
    "pp.make_age_plot = True\n",
    "pp.age_xlim = [10, 16]\n",
    "pp.title_inside = ''\n",
    "q2.isopars.solve_one(s, sp, pp)"
   ]
  },
  {
   "cell_type": "markdown",
   "metadata": {},
   "source": [
    "Optional\n",
    "\n",
    "- Make a plot showing the nearest-age isochrone and the star with its error bars.\n",
    "- Show isochrones of +/- 1 sigma age."
   ]
  },
  {
   "cell_type": "code",
   "execution_count": 9,
   "metadata": {
    "collapsed": true
   },
   "outputs": [],
   "source": [
    "iso = q2.isopars.get_isochrone(13.7, -2.0, 'yy05.sql3')\n",
    "isop = q2.isopars.get_isochrone(14.4, -2.0, 'yy05.sql3')\n",
    "isom = q2.isopars.get_isochrone(13.0, -2.0, 'yy05.sql3')"
   ]
  },
  {
   "cell_type": "code",
   "execution_count": 10,
   "metadata": {
    "collapsed": true
   },
   "outputs": [],
   "source": [
    "import matplotlib.pyplot as plt\n",
    "%matplotlib inline"
   ]
  },
  {
   "cell_type": "code",
   "execution_count": 11,
   "metadata": {},
   "outputs": [
    {
     "data": {
      "text/plain": [
       "<matplotlib.text.Text at 0x7ff54107be80>"
      ]
     },
     "execution_count": 11,
     "metadata": {},
     "output_type": "execute_result"
    },
    {
     "data": {
      "image/png": "[encoded data removed]",
      "text/plain": [
       "<matplotlib.figure.Figure at 0x7ff541174f98>"
      ]
     },
     "metadata": {},
     "output_type": "display_data"
    }
   ],
   "source": [
    "plt.plot(10**iso['logt'], iso['mv'], 'blue')\n",
    "plt.plot(10**isop['logt'], isop['mv'], 'cyan')\n",
    "plt.plot(10**isom['logt'], isom['mv'], 'cyan')\n",
    "plt.xlim(6100, 5500)\n",
    "plt.ylim(3.8, 3.0)\n",
    "plt.errorbar(s.teff, s.M_V, s.err_M_V, s.err_teff, marker='o', color='green')\n",
    "plt.xlabel('$T_\\mathrm{eff}$ (K)')\n",
    "plt.ylabel('$M_V$ (mag)')"
   ]
  },
  {
   "cell_type": "code",
   "execution_count": null,
   "metadata": {
    "collapsed": true
   },
   "outputs": [],
   "source": []
  }
 ],
 "metadata": {
  "kernelspec": {
   "display_name": "Python 3",
   "language": "python",
   "name": "python3"
  },
  "language_info": {
   "codemirror_mode": {
    "name": "ipython",
    "version": 3
   },
   "file_extension": ".py",
   "mimetype": "text/x-python",
   "name": "python",
   "nbconvert_exporter": "python",
   "pygments_lexer": "ipython3",
   "version": "3.6.1"
  }
 },
 "nbformat": 4,
 "nbformat_minor": 2
}
